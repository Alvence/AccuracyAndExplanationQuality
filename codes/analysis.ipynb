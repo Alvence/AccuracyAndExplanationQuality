{
 "cells": [
  {
   "cell_type": "code",
   "execution_count": 1,
   "metadata": {},
   "outputs": [],
   "source": [
    "import numpy as np\n",
    "import pandas as pd\n",
    "import matplotlib.pyplot as plt"
   ]
  },
  {
   "cell_type": "code",
   "execution_count": 2,
   "metadata": {},
   "outputs": [],
   "source": [
    "model_names = ['alexnet', 'densenet', 'inception','resnet18', 'resnet50', 'squeezenet', 'vgg']\n",
    "alphas = ['0', '0.1', '0.2', '0.3', '0.4', '0.5', '0.6', '0.7', '0.8', '0.9', '1.0']"
   ]
  },
  {
   "cell_type": "code",
   "execution_count": 3,
   "metadata": {},
   "outputs": [],
   "source": [
    "def highlight_max(s):\n",
    "    '''\n",
    "    highlight the maximum in a Series yellow.\n",
    "    '''\n",
    "    is_max = s == s.max()\n",
    "    return ['background-color: yellow' if v else '' for v in is_max]\n",
    "\n",
    "def highlight_min(s):\n",
    "    '''\n",
    "    highlight the minimum in a Series yellow.\n",
    "    '''\n",
    "    is_min = s == s.min()\n",
    "    return ['background-color: yellow' if v else '' for v in is_min]"
   ]
  },
  {
   "cell_type": "code",
   "execution_count": 4,
   "metadata": {},
   "outputs": [],
   "source": [
    "#calculate the results of model selecton\n",
    "def calcStatFold(file_name, fold):\n",
    "    #correlations between selection scores and test accuracy\n",
    "    stats = pd.DataFrame()\n",
    "    #test accuracy of model selected with selection scores\n",
    "    best = pd.DataFrame()\n",
    "    #test explanation quality of model selected with selection scores\n",
    "    best_expl = pd.DataFrame()\n",
    "    for model_name in  model_names:\n",
    "        ts = pd.Series(dtype = 'float64', index = alphas)\n",
    "        bs = pd.Series(dtype = 'float64', index = alphas)\n",
    "        es = pd.Series(dtype = 'float64', index = alphas)\n",
    "        df = pd.read_csv(file_name+model_name+'_guidedBackProp_'+str(fold)+'_0.3_0.33.csv')\n",
    "        for alpha in alphas:\n",
    "            ts[alpha] = df['test_acc'].corr(df['val_acc'] * float(alpha) + df['val_auc'] * (1-float(alpha)))\n",
    "            temp = df['val_acc'] * float(alpha) + df['val_auc'] * (1-float(alpha))\n",
    "            bs[alpha] = df['test_acc'].get(temp.idxmax())\n",
    "            es[alpha] = df['test_auc'].get(temp.idxmax())\n",
    "        stats[model_name] = ts\n",
    "        best[model_name] = bs\n",
    "        best_expl[model_name] = es\n",
    "    return stats, best, best_expl"
   ]
  },
  {
   "cell_type": "code",
   "execution_count": 12,
   "metadata": {},
   "outputs": [],
   "source": [
    "running_stats = None\n",
    "running_best = None\n",
    "running_best_expl = None\n",
    "num_folds = 10\n",
    "for fold in range(num_folds):\n",
    "    stats, best, best_es = calcStatFold('stats\\\\', fold)\n",
    "    if fold==0:\n",
    "        running_stats = stats\n",
    "        running_best = best\n",
    "        running_best_expl = best_es\n",
    "    else:\n",
    "        running_stats += stats\n",
    "        running_best += best\n",
    "        running_best_expl += best_es"
   ]
  },
  {
   "cell_type": "code",
   "execution_count": null,
   "metadata": {},
   "outputs": [],
   "source": [
    "(running_stats/num_folds).style.apply(highlight_max)"
   ]
  },
  {
   "cell_type": "code",
   "execution_count": null,
   "metadata": {},
   "outputs": [],
   "source": [
    "(running_best/num_folds).style.apply(highlight_max)"
   ]
  },
  {
   "cell_type": "code",
   "execution_count": null,
   "metadata": {},
   "outputs": [],
   "source": [
    "(running_best_expl/num_folds).style.apply(highlight_max)"
   ]
  },
  {
   "cell_type": "code",
   "execution_count": 9,
   "metadata": {},
   "outputs": [],
   "source": [
    "from sklearn.model_selection import train_test_split as train_test_split"
   ]
  },
  {
   "cell_type": "code",
   "execution_count": 99,
   "metadata": {},
   "outputs": [],
   "source": [
    "#analyze the availability of expert explanation\n",
    "def calcStatFixedTrainFold(file_name,model_name,train_ratio, val_ratio, fold):\n",
    "    stats = pd.DataFrame()\n",
    "    best = pd.DataFrame()\n",
    "    df = pd.read_csv(file_name+model_name+'_guidedBackProp_'+str(fold)+'_'+str(train_ratio)+'_'+str(val_ratio)+'.csv')\n",
    "    for expl_ratio in  [0.1,0.2,0.3,0.4,0.5,0.6,0.7,0.8,0.9,1]:\n",
    "        ts = pd.Series(dtype = 'float64')\n",
    "        bs = pd.Series(dtype = 'float64')\n",
    "        for alpha in alphas:\n",
    "            ts['alpha='+alpha] = df['test_acc'].corr(df['val_acc'] * float(alpha) + df['val_auc_'+str(expl_ratio)] * (1-float(alpha)))\n",
    "            temp = df['val_acc'] * float(alpha) + df['val_auc_'+str(expl_ratio)] * (1-float(alpha))\n",
    "            bs['alpha='+alpha] = df['test_acc'].get(temp.idxmax())\n",
    "        stats['ratio='+str(expl_ratio)] = ts\n",
    "        best['ratio='+str(expl_ratio)] = bs\n",
    "    return stats, best"
   ]
  },
  {
   "cell_type": "code",
   "execution_count": 126,
   "metadata": {},
   "outputs": [],
   "source": [
    "running_stats = None\n",
    "running_best = None\n",
    "num_folds = 10\n",
    "for fold in range(num_folds):\n",
    "    stats, best = calcStatFixedTrainFold('stats\\\\', 'densenet',0.3, 0.33, fold)\n",
    "    if fold==0:\n",
    "        running_stats = stats\n",
    "        running_best = best\n",
    "    else:\n",
    "        running_stats += stats\n",
    "        running_best += best"
   ]
  },
  {
   "cell_type": "code",
   "execution_count": null,
   "metadata": {},
   "outputs": [],
   "source": [
    "(running_best/num_folds).style.apply(highlight_max)"
   ]
  },
  {
   "cell_type": "code",
   "execution_count": null,
   "metadata": {},
   "outputs": [],
   "source": []
  }
 ],
 "metadata": {
  "kernelspec": {
   "display_name": "Python 3",
   "language": "python",
   "name": "python3"
  },
  "language_info": {
   "codemirror_mode": {
    "name": "ipython",
    "version": 3
   },
   "file_extension": ".py",
   "mimetype": "text/x-python",
   "name": "python",
   "nbconvert_exporter": "python",
   "pygments_lexer": "ipython3",
   "version": "3.6.7"
  }
 },
 "nbformat": 4,
 "nbformat_minor": 4
}
